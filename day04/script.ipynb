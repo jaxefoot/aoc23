{
 "cells": [
  {
   "cell_type": "code",
   "execution_count": null,
   "metadata": {},
   "outputs": [],
   "source": [
    "import pandas as pd\n",
    "import re"
   ]
  },
  {
   "cell_type": "code",
   "execution_count": null,
   "metadata": {},
   "outputs": [],
   "source": [
    "#Task 1\n",
    "df = pd.read_csv('./input.txt', header=None)\n",
    "df = df.apply(lambda x: x[0].split(\": \")[1],  axis=1)\n",
    "winningNumbers = df.apply(lambda x: re.split(\"\\s+\", x.split(\" | \")[0].strip())).apply(lambda x: set(map(lambda y: int(y), x)))\n",
    "gameNumbers = df.apply(lambda x: re.split(\"\\s+\", x.split(\" | \")[1].strip())).apply(lambda x: list(map(lambda y: int(y), x)))\n",
    "df = pd.DataFrame({\"winningNumbers\": winningNumbers, \"gameNumbers\": gameNumbers})\n",
    "df['matches'] = df[['winningNumbers', 'gameNumbers']].apply(lambda x: [n for n in x[\"gameNumbers\"] if n in x[\"winningNumbers\"]], axis=1)\n",
    "df[\"matches\"] = df[\"matches\"].apply(lambda x: len(x))\n",
    "df[\"score\"] = df[\"matches\"].apply(lambda x: pow(2, x-1) if x > 0 else x)\n",
    "df[\"score\"].sum()"
   ]
  },
  {
   "cell_type": "code",
   "execution_count": null,
   "metadata": {},
   "outputs": [],
   "source": [
    "#Task 2\n",
    "gameCount = dict()\n",
    "for index, value in df[\"matches\"].items():\n",
    "    currentGameKey = str(index)\n",
    "    #add original\n",
    "    if currentGameKey in gameCount: gameCount[currentGameKey]+=1\n",
    "    else: gameCount[currentGameKey]=1\n",
    "\n",
    "    #add copies\n",
    "    numberOfCopiesAdded = gameCount[currentGameKey]\n",
    "    nextGames = list(range(index+1,index+1+value))\n",
    "    for game in nextGames:\n",
    "        gameKey = str(game)\n",
    "        if gameKey in gameCount: gameCount[gameKey]+=numberOfCopiesAdded\n",
    "        else: gameCount[gameKey]=numberOfCopiesAdded\n",
    "sum(gameCount.values())"
   ]
  },
  {
   "cell_type": "code",
   "execution_count": null,
   "metadata": {},
   "outputs": [],
   "source": []
  }
 ],
 "metadata": {
  "kernelspec": {
   "display_name": "venv",
   "language": "python",
   "name": "python3"
  },
  "language_info": {
   "codemirror_mode": {
    "name": "ipython",
    "version": 3
   },
   "file_extension": ".py",
   "mimetype": "text/x-python",
   "name": "python",
   "nbconvert_exporter": "python",
   "pygments_lexer": "ipython3",
   "version": "3.10.7"
  }
 },
 "nbformat": 4,
 "nbformat_minor": 2
}
