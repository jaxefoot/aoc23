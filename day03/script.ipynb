{
 "cells": [
  {
   "cell_type": "code",
   "execution_count": 91,
   "metadata": {},
   "outputs": [],
   "source": [
    "import pandas as pd\n",
    "from collections import namedtuple\n",
    "import re\n",
    "import numpy as np"
   ]
  },
  {
   "cell_type": "code",
   "execution_count": 92,
   "metadata": {},
   "outputs": [
    {
     "data": {
      "text/plain": [
       "556057"
      ]
     },
     "execution_count": 92,
     "metadata": {},
     "output_type": "execute_result"
    }
   ],
   "source": [
    "#Task 1\n",
    "df = pd.read_csv(r'./input.txt', header=None)\n",
    "Coordinate = namedtuple('Coordinate', ['column', 'row'])\n",
    "symbols = set()\n",
    "numbers = []\n",
    "\n",
    "def getPositions(x):\n",
    "    for index, value in x.items():\n",
    "        characterSearch = re.finditer('[^0-9.\\n]', value)\n",
    "        for result in characterSearch:\n",
    "            symbols.add(Coordinate(result.start(), index))\n",
    "    getNeighbouringNumbers(x)\n",
    "\n",
    "\n",
    "def getNeighbouringNumbers(x):\n",
    "    for index, value in x.items():\n",
    "        characterSearch = re.finditer('\\d+', value)\n",
    "        for result in characterSearch:\n",
    "            start = result.start()\n",
    "            end = result.end()\n",
    "            for a in range(start-1, end+1):\n",
    "                if (a, index-1) in symbols or (a, index) in symbols or (a, index+1) in symbols:\n",
    "                    number = int(result.string[result.start(): result.end()])\n",
    "                    numbers.append(number)\n",
    "\n",
    "\n",
    "\n",
    "df.apply(lambda x: getPositions(x))\n",
    "sum(numbers)\n",
    "\n"
   ]
  },
  {
   "cell_type": "code",
   "execution_count": 93,
   "metadata": {},
   "outputs": [
    {
     "data": {
      "text/plain": [
       "467835"
      ]
     },
     "execution_count": 93,
     "metadata": {},
     "output_type": "execute_result"
    }
   ],
   "source": [
    "#Task 2\n",
    "df = pd.read_csv(r'./input.txt', header=None)\n",
    "Coordinate = namedtuple('Coordinate', ['column', 'row'])\n",
    "symbols = set()\n",
    "numbers = []\n",
    "\n",
    "def getPositions(x):\n",
    "    for index, value in x.items():\n",
    "        characterSearch = re.finditer('\\*', value)\n",
    "        for result in characterSearch:\n",
    "            symbols.add(Coordinate(result.start(), index))\n",
    "\n",
    "def checkIfNumberIsNeighbour(matchObject, gearCoordinates):\n",
    "    numberColumns = range(matchObject.start(), matchObject.end())\n",
    "    gearCollisionColumns = [gearCoordinates.column-1, gearCoordinates.column, gearCoordinates.column+1]\n",
    "    return len(set(numberColumns).intersection(gearCollisionColumns))>0\n",
    "\n",
    "def getNeighbouringNumbers(dataframe, gear):\n",
    "    numbersInNeighbouringLines = []\n",
    "    for index, value in dataframe.items():\n",
    "        numberSearch = list(re.finditer('\\d+', value))\n",
    "        numbersInNeighbouringLines += numberSearch\n",
    "    neighbouringNumbers = list(filter(lambda x: checkIfNumberIsNeighbour(x, gear), numbersInNeighbouringLines))\n",
    "    return pd.Series(neighbouringNumbers)\n",
    "\n",
    "\n",
    "\n",
    "df.apply(lambda x: getPositions(x))\n",
    "result = 0\n",
    "for gear in symbols:\n",
    "    neighbouringLines = df.iloc[gear.row-1: gear.row+2]\n",
    "    neighbouringNumbers = neighbouringLines.apply(lambda x: getNeighbouringNumbers(x, gear))\n",
    "    neighbouringNumbers = neighbouringNumbers[0]\n",
    "    if len(neighbouringNumbers) == 2:\n",
    "        numbers = list(map(lambda x: int(x.string[x.start():x.end()]),neighbouringNumbers))\n",
    "        result += np.prod(numbers)\n",
    "\n",
    "\n",
    "result\n",
    "\n",
    "\n",
    "\n",
    "\n"
   ]
  },
  {
   "cell_type": "code",
   "execution_count": null,
   "metadata": {},
   "outputs": [],
   "source": []
  }
 ],
 "metadata": {
  "kernelspec": {
   "display_name": "venv",
   "language": "python",
   "name": "python3"
  },
  "language_info": {
   "codemirror_mode": {
    "name": "ipython",
    "version": 3
   },
   "file_extension": ".py",
   "mimetype": "text/x-python",
   "name": "python",
   "nbconvert_exporter": "python",
   "pygments_lexer": "ipython3",
   "version": "3.9.13"
  }
 },
 "nbformat": 4,
 "nbformat_minor": 2
}
