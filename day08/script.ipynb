{
 "cells": [
  {
   "cell_type": "code",
   "execution_count": null,
   "metadata": {},
   "outputs": [],
   "source": [
    "import re"
   ]
  },
  {
   "cell_type": "code",
   "execution_count": null,
   "metadata": {},
   "outputs": [],
   "source": [
    "with open(\"./input.txt\") as f:\n",
    "    lines = list(map(lambda x: x.strip(), f.readlines()))\n",
    "instructions = lines[0]\n",
    "mapInput = lines[2:]\n",
    "\n",
    "mapLookup = dict()\n",
    "for input in mapInput:\n",
    "    source, destination = input.split(\" = \")\n",
    "    destination = re.findall(\"[A-Z]+\", destination)\n",
    "    destination = (destination[0], destination[1])\n",
    "    mapLookup[source]=destination"
   ]
  },
  {
   "cell_type": "code",
   "execution_count": null,
   "metadata": {},
   "outputs": [],
   "source": [
    "def getNextPoint(point, mapLookup, instructions, counter):\n",
    "        instructionIndex = counter % len(instructions)\n",
    "        instruction = instructions[instructionIndex]\n",
    "        path = 0 if instruction == \"L\" else 1\n",
    "        nextPoint = mapLookup[point][path]\n",
    "        return nextPoint"
   ]
  },
  {
   "cell_type": "code",
   "execution_count": null,
   "metadata": {},
   "outputs": [],
   "source": [
    "# Task 1\n",
    "counter = 0\n",
    "currentPoint = \"AAA\"\n",
    "\n",
    "while currentPoint != \"ZZZ\":\n",
    "    instructionIndex = counter % len(instructions)\n",
    "    instruction = instructions[instructionIndex]\n",
    "    path = 0 if instruction == \"L\" else 1\n",
    "    currentPoint=mapLookup[currentPoint][path]\n",
    "    counter+=1\n",
    "counter"
   ]
  },
  {
   "cell_type": "code",
   "execution_count": null,
   "metadata": {},
   "outputs": [],
   "source": [
    "#Task 2\n",
    "from math import lcm\n",
    "\n",
    "def getPointsThatEndWithLetter(keyList, letter):\n",
    "    result = list(filter(lambda x: x[2]==letter, keyList))\n",
    "    return result\n",
    "\n",
    "def checkIfLastKeyIsLetter(keyList, letter):\n",
    "    result = True\n",
    "    for key in keyList:\n",
    "        if key[2] != letter:\n",
    "            result=False\n",
    "            break\n",
    "    return result\n",
    "\n",
    "def getFirstMatchedPoint(point, mapLookup, instructions):\n",
    "    zIndizes =[]\n",
    "    counter = 0\n",
    "    currentPoint = point\n",
    "    while len(zIndizes) == 0:\n",
    "        nextPoint = getNextPoint(currentPoint,mapLookup, instructions, counter)\n",
    "        counter = counter + 1\n",
    "        if checkIfLastKeyIsLetter([nextPoint], \"Z\"):\n",
    "            zIndizes.append(counter)\n",
    "        currentPoint = nextPoint\n",
    "    return zIndizes\n",
    "\n",
    "#Assumption: Loop starts after 1 step like in the demo input\n",
    "indices = []\n",
    "points = getPointsThatEndWithLetter(mapLookup, \"A\")\n",
    "for point in points:\n",
    "    loop = getFirstMatchedPoint(point, mapLookup, instructions)\n",
    "    indices.append(loop[0])\n",
    "\n",
    "lcm(*indices)"
   ]
  },
  {
   "cell_type": "code",
   "execution_count": null,
   "metadata": {},
   "outputs": [],
   "source": [
    "lcm(11,12), lcm(11,22)"
   ]
  }
 ],
 "metadata": {
  "kernelspec": {
   "display_name": "venv",
   "language": "python",
   "name": "python3"
  },
  "language_info": {
   "codemirror_mode": {
    "name": "ipython",
    "version": 3
   },
   "file_extension": ".py",
   "mimetype": "text/x-python",
   "name": "python",
   "nbconvert_exporter": "python",
   "pygments_lexer": "ipython3",
   "version": "3.9.7"
  }
 },
 "nbformat": 4,
 "nbformat_minor": 2
}
