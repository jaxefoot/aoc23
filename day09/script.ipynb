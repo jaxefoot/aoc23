{
 "cells": [
  {
   "cell_type": "code",
   "execution_count": null,
   "metadata": {},
   "outputs": [],
   "source": [
    "import re\n",
    "with open(\"input.txt\") as f:\n",
    "    lines = f.read().split('\\n')"
   ]
  },
  {
   "cell_type": "code",
   "execution_count": null,
   "metadata": {},
   "outputs": [],
   "source": [
    "def getNextNumberOfLine(line):\n",
    "    numbers = line.split(\" \")\n",
    "    numbers = list(map(lambda x: int(x), numbers))\n",
    "    \n",
    "    #Task 2\n",
    "    numbers.reverse()\n",
    "    \n",
    "    lists = [numbers]\n",
    "    while(not all(x == 0 for x in lists[-1])):\n",
    "        evaluatedList = lists[-1]\n",
    "        chunks = [evaluatedList[i:i+2] for i in range(0, len(evaluatedList)-1)]\n",
    "        chunkDiffs = list(map(lambda chunk: chunk[1] - chunk[0], chunks))\n",
    "        lists.append(chunkDiffs)\n",
    "    \n",
    "    lists.reverse()\n",
    "    \n",
    "    lists[0].append(0)\n",
    "    for index, numbers in enumerate(lists):\n",
    "        if index > 0:\n",
    "            numbers.append(numbers[-1]+lists[index-1][-1])\n",
    "    return lists[-1][-1]\n",
    "    \n",
    "    \n",
    "\n",
    "nextNumbers = []\n",
    "for line in lines:\n",
    "    line.strip()\n",
    "    nextNumber = getNextNumberOfLine(line)\n",
    "    nextNumbers.append(nextNumber)\n",
    "sum(nextNumbers)"
   ]
  },
  {
   "cell_type": "code",
   "execution_count": null,
   "metadata": {},
   "outputs": [],
   "source": []
  },
  {
   "cell_type": "code",
   "execution_count": null,
   "metadata": {},
   "outputs": [],
   "source": []
  },
  {
   "cell_type": "code",
   "execution_count": null,
   "metadata": {},
   "outputs": [],
   "source": []
  }
 ],
 "metadata": {
  "kernelspec": {
   "display_name": "venv",
   "language": "python",
   "name": "python3"
  },
  "language_info": {
   "codemirror_mode": {
    "name": "ipython",
    "version": 3
   },
   "file_extension": ".py",
   "mimetype": "text/x-python",
   "name": "python",
   "nbconvert_exporter": "python",
   "pygments_lexer": "ipython3",
   "version": "3.9.7"
  }
 },
 "nbformat": 4,
 "nbformat_minor": 2
}
