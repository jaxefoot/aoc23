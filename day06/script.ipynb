{
 "cells": [
  {
   "cell_type": "code",
   "execution_count": null,
   "metadata": {},
   "outputs": [],
   "source": [
    "import pandas as pd\n",
    "import re"
   ]
  },
  {
   "cell_type": "code",
   "execution_count": null,
   "metadata": {},
   "outputs": [],
   "source": []
  },
  {
   "cell_type": "code",
   "execution_count": null,
   "metadata": {},
   "outputs": [],
   "source": [
    "#Task 1\n",
    "from math import ceil, floor, sqrt\n",
    "import numpy as np\n",
    "\n",
    "with open(\"input.txt\") as f:\n",
    "    lines = f.readlines()\n",
    "    lines = list(map(lambda line: line.strip(), lines))\n",
    "    lines = list(map(lambda line: line.split(\":\")[1].strip(), lines))\n",
    "    lines = list(map(lambda line: re.split(\"\\s+\", line), lines))\n",
    "    lines = list(map(lambda line: list(map(lambda number: int(number), line)), lines))\n",
    "times, distances = lines\n",
    "times, distances\n",
    "\n",
    "def getResults(times, distances):\n",
    "    results = []\n",
    "    for index in range(0, len(times)):\n",
    "        time = times[index]\n",
    "        distance = distances[index]\n",
    "        min = (time/2)-sqrt(pow((-time/2), 2)-distance)\n",
    "        max = (time/2)+sqrt(pow((-time/2), 2)-distance)\n",
    "        nextHigherFullNumberMin = ceil(min) if min%1 != 0 else min+1\n",
    "        nextLowerFullNumberMax = floor(max) if max%1 != 0 else max-1\n",
    "        difference = nextLowerFullNumberMax - nextHigherFullNumberMin\n",
    "        includedNumbers = difference+1\n",
    "        results.append(includedNumbers)\n",
    "    return results\n",
    "np.prod(getResults(times=times, distances=distances))"
   ]
  },
  {
   "cell_type": "code",
   "execution_count": null,
   "metadata": {},
   "outputs": [],
   "source": [
    "#Task 2\n",
    "with open(\"input.txt\") as f:\n",
    "    lines = f.readlines()\n",
    "    lines = list(map(lambda line: line.strip(), lines))\n",
    "    lines = list(map(lambda line: line.split(\":\")[1].strip(), lines))\n",
    "    lines = list(map(lambda line: re.sub(\"\\s+\", \"\", line), lines))\n",
    "getResults([int(lines[0])], [int(lines[1])])\n"
   ]
  }
 ],
 "metadata": {
  "kernelspec": {
   "display_name": "venv",
   "language": "python",
   "name": "python3"
  },
  "language_info": {
   "codemirror_mode": {
    "name": "ipython",
    "version": 3
   },
   "file_extension": ".py",
   "mimetype": "text/x-python",
   "name": "python",
   "nbconvert_exporter": "python",
   "pygments_lexer": "ipython3",
   "version": "3.9.7"
  }
 },
 "nbformat": 4,
 "nbformat_minor": 2
}
