{
 "cells": [
  {
   "cell_type": "code",
   "execution_count": null,
   "metadata": {},
   "outputs": [],
   "source": [
    "import pandas as pd\n",
    "import re"
   ]
  },
  {
   "cell_type": "code",
   "execution_count": null,
   "metadata": {},
   "outputs": [],
   "source": [
    "#Task 1\n",
    "\n",
    "def evaluateGame(gameString):\n",
    "    result = {\"green\":0, \"red\":0, \"blue\":0}\n",
    "    showings = gameString.split(\"; \")\n",
    "    for showing in showings:\n",
    "        cubes = showing.split(\", \")\n",
    "        for cube in cubes:\n",
    "            [number, color] = cube.split(\" \")\n",
    "            if color not in result or result[color] < int(number): result[color] = int(number)\n",
    "    return result[\"red\"]<=12 and result[\"green\"] <=13 and result[\"blue\"] <= 14\n",
    "\n",
    "df = pd.read_csv(\"./input.txt\", sep=\": \", header=None)\n",
    "booleanSeries = df[1].map(lambda x: evaluateGame(x))\n",
    "df[booleanSeries][0].apply(lambda x: int(x.split(\" \")[1])).sum()"
   ]
  },
  {
   "cell_type": "code",
   "execution_count": null,
   "metadata": {},
   "outputs": [],
   "source": [
    "#Task 2\n",
    "def getGamePower(gameString):\n",
    "    result = {\"green\":0, \"red\":0, \"blue\":0}\n",
    "    showings = gameString.split(\"; \")\n",
    "    for showing in showings:\n",
    "        cubes = showing.split(\", \")\n",
    "        for cube in cubes:\n",
    "            [number, color] = cube.split(\" \")\n",
    "            if color not in result or result[color] < int(number): result[color] = int(number)\n",
    "    return result[\"red\"] * result[\"green\"] * result[\"blue\"]\n",
    "\n",
    "df = pd.read_csv(\"./input.txt\", sep=\": \", header=None)\n",
    "powers = df[1].map(lambda x: getGamePower(x))\n",
    "powers.sum()"
   ]
  }
 ],
 "metadata": {
  "kernelspec": {
   "display_name": "venv",
   "language": "python",
   "name": "python3"
  },
  "language_info": {
   "codemirror_mode": {
    "name": "ipython",
    "version": 3
   },
   "file_extension": ".py",
   "mimetype": "text/x-python",
   "name": "python",
   "nbconvert_exporter": "python",
   "pygments_lexer": "ipython3",
   "version": "3.9.13"
  }
 },
 "nbformat": 4,
 "nbformat_minor": 2
}
