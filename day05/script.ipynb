{
 "cells": [
  {
   "cell_type": "code",
   "execution_count": null,
   "metadata": {},
   "outputs": [],
   "source": [
    "import re\n",
    "import pandas as pd"
   ]
  },
  {
   "cell_type": "code",
   "execution_count": null,
   "metadata": {},
   "outputs": [],
   "source": [
    "#Task 1\n",
    "with open(\"input.txt\") as f:\n",
    "    rawText = f.read().strip()\n",
    "    splittedText = re.split(\"[a-z\\-\\s:]{2,}\", rawText)[1:]\n",
    "seeds = list(map(lambda x: int(x), splittedText[0].split(\" \")))\n",
    "transformers = splittedText[1:]\n",
    "transformers = list(map(lambda x: x.split('\\n'), transformers))\n",
    "transformers = list(map(lambda x: list(map(lambda y: list(map(lambda z: int(z), y.split(\" \"))), x)), transformers))\n",
    "seeds, transformers\n",
    "\n",
    "def getLocationsForSeeds(seeds, transformers):\n",
    "    locations = []\n",
    "    for seed in seeds:\n",
    "        currentValue = seed\n",
    "        for transformer in transformers:\n",
    "            for mapping in transformer:\n",
    "                if currentValue >= mapping[1] and currentValue <= mapping[1]+mapping[2]-1:\n",
    "                    currentValue = mapping[0]+(currentValue-mapping[1])\n",
    "                    break\n",
    "        locations.append(currentValue)\n",
    "    return locations\n",
    "min(getLocationsForSeeds(seeds, transformers))"
   ]
  },
  {
   "cell_type": "code",
   "execution_count": null,
   "metadata": {},
   "outputs": [],
   "source": [
    "#Task 2\n",
    "chunks = [seeds[x:x+2] for x in range(0, len(seeds), 2)]\n",
    "seedRanges = [(x[0], x[0]+x[1]-1) for x in chunks]\n",
    "locationRanges = []\n",
    "\n",
    "for seedRange in seedRanges:\n",
    "    currentRanges = [seedRange]\n",
    "    for transformer in transformers:\n",
    "        rangesToBeProcessed = [x for x in currentRanges]\n",
    "        postTransformerList = []\n",
    "        while len(rangesToBeProcessed) > 0:\n",
    "            evaluatedRange = rangesToBeProcessed.pop()\n",
    "            rangeWasMapped = False\n",
    "            for mapping in transformer:\n",
    "                sourceRange = (mapping[1], mapping[1]+mapping[2]-1)\n",
    "                appliedDifference = mapping[1]-mapping[0]\n",
    "\n",
    "                #evaluated range fully wrapped by source range\n",
    "                if evaluatedRange[0] >= sourceRange[0] and evaluatedRange[1]<=sourceRange[1]:\n",
    "                    postTransformerList.append((evaluatedRange[0]-appliedDifference, evaluatedRange[1]-appliedDifference))\n",
    "                    #print(str(evaluatedRange) + \" is fully wrapped by \" + str(sourceRange))\n",
    "                    rangeWasMapped = True\n",
    "                    break\n",
    "                #evaluated range left bound outside right bound inside\n",
    "                elif evaluatedRange[0] < sourceRange[0] and evaluatedRange[1] >= sourceRange[0] and evaluatedRange[1] <= sourceRange[1]:\n",
    "                    rangesToBeProcessed.append((evaluatedRange[0], sourceRange[0]-1))\n",
    "                    postTransformerList.append((sourceRange[0]-appliedDifference, evaluatedRange[1]-appliedDifference))\n",
    "                    #print(str(evaluatedRange) + \" overlays on the left \" + str(sourceRange)+\":\"+str(rangesToBeProcessed[-1])+str(postTransformerList[-1]))\n",
    "                    rangeWasMapped = True\n",
    "                    break\n",
    "                #evaluated range right bound outside, left bound inside\n",
    "                elif evaluatedRange[0] >= sourceRange[0] and evaluatedRange[0] <= sourceRange[1] and evaluatedRange[1] > sourceRange[1]:\n",
    "                    rangesToBeProcessed.append((sourceRange[1]+1, evaluatedRange[1]))\n",
    "                    postTransformerList.append((evaluatedRange[0]-appliedDifference, sourceRange[1]-appliedDifference))\n",
    "                    #print(str(evaluatedRange) + \" overlays on the right \" + str(sourceRange))\n",
    "                    rangeWasMapped = True\n",
    "                    break\n",
    "                #evaluated range wraps source range\n",
    "                elif evaluatedRange[0] < sourceRange[0] and evaluatedRange[1] > sourceRange[1]:\n",
    "                    postTransformerList.append((sourceRange[0]-appliedDifference, sourceRange[1]-appliedDifference))\n",
    "                    rangesToBeProcessed.append((evaluatedRange[0], sourceRange[0]-1))\n",
    "                    rangesToBeProcessed.append((sourceRange[1]+1, evaluatedRange[1]))\n",
    "                    #print(str(evaluatedRange) + \" wraps \" + str(sourceRange))\n",
    "                    rangeWasMapped = True\n",
    "                    break\n",
    "            if not rangeWasMapped: \n",
    "                #print(str(evaluatedRange) + \" did not match anything in that transfromer \" + str(transformer))\n",
    "                postTransformerList.append(evaluatedRange)\n",
    "        currentRanges = postTransformerList\n",
    "    locationRanges+=currentRanges\n",
    "minLocation = min(list(map(lambda x: x[0], locationRanges)))\n",
    "minLocation \n"
   ]
  }
 ],
 "metadata": {
  "kernelspec": {
   "display_name": "venv",
   "language": "python",
   "name": "python3"
  },
  "language_info": {
   "codemirror_mode": {
    "name": "ipython",
    "version": 3
   },
   "file_extension": ".py",
   "mimetype": "text/x-python",
   "name": "python",
   "nbconvert_exporter": "python",
   "pygments_lexer": "ipython3",
   "version": "3.10.7"
  }
 },
 "nbformat": 4,
 "nbformat_minor": 2
}
