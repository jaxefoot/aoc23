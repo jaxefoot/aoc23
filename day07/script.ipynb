{
 "cells": [
  {
   "cell_type": "code",
   "execution_count": null,
   "metadata": {},
   "outputs": [],
   "source": [
    "import pandas as pd\n",
    "import re\n",
    "from enum import Enum"
   ]
  },
  {
   "cell_type": "code",
   "execution_count": null,
   "metadata": {},
   "outputs": [],
   "source": [
    "df = pd.read_csv(\"./input.txt\", header=None, sep=\" \")\n",
    "df = df.rename(columns={0: 'hand', 1: 'bid'})"
   ]
  },
  {
   "cell_type": "code",
   "execution_count": null,
   "metadata": {},
   "outputs": [],
   "source": [
    "from collections import Counter\n",
    "\n",
    "HandType = Enum('HandType', ['FiveOfAKind', 'FourOfAKind', 'FullHouse', 'ThreeOfaKind', 'TwoPair', 'Pair', 'HighCard'])\n",
    "\n",
    "#J value toggled to 0 for task 2\n",
    "cardValue = {\n",
    "    \"A\": 13,\n",
    "    \"K\": 12,\n",
    "    \"Q\": 11,\n",
    "    \"J\": 0,\n",
    "    \"T\": 9,\n",
    "    \"9\": 8,\n",
    "    \"8\": 7,\n",
    "    \"7\": 6,\n",
    "    \"6\": 5,\n",
    "    \"5\": 4,\n",
    "    \"4\": 3,\n",
    "    \"3\": 2,\n",
    "    \"2\": 1,\n",
    "}\n",
    "\n",
    "handTypeValue = {\n",
    "    HandType.FiveOfAKind: 7,\n",
    "    HandType.FourOfAKind: 6,\n",
    "    HandType.FullHouse: 5,\n",
    "    HandType.ThreeOfaKind: 4,\n",
    "    HandType.TwoPair: 3,\n",
    "    HandType.Pair: 2,\n",
    "    HandType.HighCard: 1,\n",
    "}\n",
    "\n",
    "def getHandType(hand):\n",
    "    letterCounts = Counter(hand)\n",
    "    #___TASK 2___\n",
    "    #search for highest key would not return a result if there are 5 of them and it would not change the card type\n",
    "    if(\"J\" in letterCounts and letterCounts[\"J\"] != 5):\n",
    "        jCount = letterCounts.pop(\"J\")\n",
    "        #find letter in card that appears the most and add j count to that\n",
    "        highestKey = (\"\",0)\n",
    "        for key in letterCounts:\n",
    "            if letterCounts[key]>highestKey[1]:\n",
    "                highestKey = (key, letterCounts[key])\n",
    "        letterCounts[highestKey[0]]+= jCount\n",
    "    #___TASK 2 END___\n",
    "    valueCounts = list(letterCounts.values())\n",
    "    if 5 in valueCounts: return HandType.FiveOfAKind\n",
    "    if 4 in valueCounts: return HandType.FourOfAKind\n",
    "    if 3 in valueCounts and 2 in valueCounts: return HandType.FullHouse\n",
    "    if 3 in valueCounts: return HandType.ThreeOfaKind\n",
    "    if Counter(valueCounts)[2] == 2: return HandType.TwoPair\n",
    "    if 2 in valueCounts: return HandType.Pair\n",
    "    return HandType.HighCard\n",
    "\n",
    "#a little bit hacky\n",
    "df[\"type\"] = df[\"hand\"].apply(lambda x: getHandType(x))\n",
    "df[\"typeValue\"] = df[\"type\"].apply(lambda x: handTypeValue[x])\n",
    "df[\"firstLetterValue\"] = df[\"hand\"].apply(lambda x: cardValue[x[0]])\n",
    "df[\"secondLetterValue\"] = df[\"hand\"].apply(lambda x: cardValue[x[1]])\n",
    "df[\"thirdLetterValue\"] = df[\"hand\"].apply(lambda x: cardValue[x[2]])\n",
    "df[\"fourthLetterValue\"] = df[\"hand\"].apply(lambda x: cardValue[x[3]])\n",
    "df[\"fifthLetterValue\"] = df[\"hand\"].apply(lambda x: cardValue[x[4]])\n",
    "ascending = True\n",
    "df = df.sort_values(\n",
    "    [\"typeValue\", \"firstLetterValue\", \"secondLetterValue\", \"thirdLetterValue\", \"fourthLetterValue\", \"fifthLetterValue\"],\n",
    "    ascending=[True]*6\n",
    ")\n",
    "df = df.reset_index(drop=True)\n",
    "df = df.reset_index()\n",
    "df[\"value\"] = df[[\"index\", \"bid\"]].apply(lambda x: (x[\"index\"]+1) * x[\"bid\"], axis=1)\n",
    "df[\"value\"].sum()"
   ]
  },
  {
   "cell_type": "code",
   "execution_count": null,
   "metadata": {},
   "outputs": [],
   "source": []
  }
 ],
 "metadata": {
  "kernelspec": {
   "display_name": "venv",
   "language": "python",
   "name": "python3"
  },
  "language_info": {
   "codemirror_mode": {
    "name": "ipython",
    "version": 3
   },
   "file_extension": ".py",
   "mimetype": "text/x-python",
   "name": "python",
   "nbconvert_exporter": "python",
   "pygments_lexer": "ipython3",
   "version": "3.9.7"
  }
 },
 "nbformat": 4,
 "nbformat_minor": 2
}
