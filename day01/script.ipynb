{
 "cells": [
  {
   "cell_type": "code",
   "execution_count": null,
   "metadata": {},
   "outputs": [],
   "source": [
    "import pandas as pd\n",
    "import re"
   ]
  },
  {
   "cell_type": "code",
   "execution_count": null,
   "metadata": {},
   "outputs": [],
   "source": [
    "#Task 1\n",
    "input = pd.read_csv(\"./input.txt\", header=None)\n",
    "def concatenateFirstLastNumber(x):\n",
    "    allDigits = re.findall('\\d', x)\n",
    "    return int(allDigits[0]+allDigits[-1])\n",
    "\n",
    "input.map(lambda x: concateNateFirstLastNumber(x)).sum()"
   ]
  },
  {
   "cell_type": "code",
   "execution_count": null,
   "metadata": {},
   "outputs": [],
   "source": [
    "#Task 2\n",
    "input = pd.read_csv(\"./input.txt\", header=None)\n",
    "def concateFirstLastNumberTask2(x):\n",
    "    lookup = {\"one\": \"1\", \"two\": \"2\", \"three\": \"3\",\"four\":\"4\", \"five\":\"5\", \"six\":\"6\", \"seven\": \"7\", \"eight\":\"8\", \"nine\": \"9\"}\n",
    "    allFindings = re.findall('(?=(one|two|three|four|five|six|seven|eight|nine|\\d))', x)\n",
    "    allDigits= list(map(lambda x: x if len(x) == 1 else lookup[x], allFindings))\n",
    "    return int(allDigits[0]+allDigits[-1])\n",
    "\n",
    "input.map(lambda x: concateFirstLastNumberTask2(x)).sum()"
   ]
  }
 ],
 "metadata": {
  "kernelspec": {
   "display_name": "venv",
   "language": "python",
   "name": "python3"
  },
  "language_info": {
   "codemirror_mode": {
    "name": "ipython",
    "version": 3
   },
   "file_extension": ".py",
   "mimetype": "text/x-python",
   "name": "python",
   "nbconvert_exporter": "python",
   "pygments_lexer": "ipython3",
   "version": "3.9.7"
  }
 },
 "nbformat": 4,
 "nbformat_minor": 2
}
