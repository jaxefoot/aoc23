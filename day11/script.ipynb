{
 "cells": [
  {
   "cell_type": "code",
   "execution_count": null,
   "metadata": {},
   "outputs": [],
   "source": [
    "import pandas as pd\n",
    "from scipy.spatial.distance import cityblock\n",
    "from collections import namedtuple\n",
    "Position = namedtuple(\"Position\", [\"column\", \"row\"])"
   ]
  },
  {
   "cell_type": "code",
   "execution_count": null,
   "metadata": {},
   "outputs": [],
   "source": [
    "with open(\"input.txt\") as f:\n",
    "    lines = f.readlines()\n",
    "    lines = list(map(lambda x: [*x.strip()], lines))\n",
    "lines\n",
    "board = pd.DataFrame(lines)\n",
    "board"
   ]
  },
  {
   "cell_type": "code",
   "execution_count": null,
   "metadata": {},
   "outputs": [],
   "source": [
    "import numpy as np\n",
    "\n",
    "def getEmptyRowIndizes(board):\n",
    "    result = []\n",
    "    for index, row in board.iterrows():\n",
    "        if (row == \".\").all():\n",
    "            result.append(index)\n",
    "    return result\n",
    "\n",
    "def getEmptyColumnIndizes(board):\n",
    "    result = []\n",
    "    for index in board.columns:\n",
    "        column = board.iloc[:, index]\n",
    "        if (column == \".\").all():\n",
    "            result.append(index)\n",
    "    return result\n",
    "\n",
    "def calculateMultipliedManhattanDistance(pointA, pointB, columns, rows, multiplier):\n",
    "    sortedPointColumns = sorted([pointA.column, pointB.column])\n",
    "    sortedPointRows = sorted([pointA.row, pointB.row])\n",
    "    emptyColumnsBetweenPoints = list(filter(lambda x: x>sortedPointColumns[0] and x<sortedPointColumns[1], columns))\n",
    "    emptyRowsBetweenPoints = list(filter(lambda x: x>sortedPointRows[0] and x<sortedPointRows[1], rows))\n",
    "    normalDistance = cityblock([pointA.column, pointA.row], [pointB.column, pointB.row])\n",
    "    multipliedDistance = normalDistance + len(emptyColumnsBetweenPoints+emptyRowsBetweenPoints)*(multiplier-1)\n",
    "    return multipliedDistance\n",
    "\n",
    "def getPositions(df):\n",
    "    row, column = np.where(df==\"#\")\n",
    "    positions = [Position(column=x[1], row=x[0]) for x in zip(row, column)]\n",
    "    return positions\n",
    "\n",
    "def getTotalDistance(board, multiplier):\n",
    "    positions = getPositions(board)\n",
    "    emptyColumns = getEmptyColumnIndizes(board)\n",
    "    emptyRows = getEmptyRowIndizes(board)\n",
    "    totalDistance = 0\n",
    "    for index, position in enumerate(positions):\n",
    "        if index < len(positions)-1:\n",
    "            compareToList = positions[index+1:]\n",
    "            for compareTo in compareToList:\n",
    "                totalDistance += calculateMultipliedManhattanDistance(compareTo, position, emptyColumns, emptyRows, multiplier)\n",
    "    return totalDistance\n",
    "\n",
    "\n",
    "getTotalDistance(board, 2), getTotalDistance(board, 1000000)"
   ]
  }
 ],
 "metadata": {
  "kernelspec": {
   "display_name": "venv",
   "language": "python",
   "name": "python3"
  },
  "language_info": {
   "codemirror_mode": {
    "name": "ipython",
    "version": 3
   },
   "file_extension": ".py",
   "mimetype": "text/x-python",
   "name": "python",
   "nbconvert_exporter": "python",
   "pygments_lexer": "ipython3",
   "version": "3.9.7"
  }
 },
 "nbformat": 4,
 "nbformat_minor": 2
}
